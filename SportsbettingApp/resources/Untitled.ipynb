{
 "cells": [
  {
   "cell_type": "code",
   "execution_count": 1,
   "metadata": {},
   "outputs": [
    {
     "name": "stdout",
     "output_type": "stream",
     "text": [
      "Collecting csv-to-sqlite\n",
      "  Downloading csv_to_sqlite-2.1.1-py3-none-any.whl (12 kB)\n",
      "Requirement already satisfied: click in c:\\users\\samer\\anaconda3\\lib\\site-packages (from csv-to-sqlite) (7.1.2)\n",
      "Installing collected packages: csv-to-sqlite\n",
      "Successfully installed csv-to-sqlite-2.1.1\n",
      "Note: you may need to restart the kernel to use updated packages.\n"
     ]
    }
   ],
   "source": [
    "pip install csv-to-sqlite"
   ]
  },
  {
   "cell_type": "code",
   "execution_count": 4,
   "metadata": {},
   "outputs": [],
   "source": [
    "import csv_to_sqlite "
   ]
  },
  {
   "cell_type": "code",
   "execution_count": 5,
   "metadata": {},
   "outputs": [
    {
     "name": "stdout",
     "output_type": "stream",
     "text": [
      "Error on table ufcfinal_df2.csv: \n",
      " duplicate column name: Red_Corner_Fighter\n",
      "Written 6533 rows into 4 tables in 0.344 seconds\n"
     ]
    },
    {
     "data": {
      "text/plain": [
       "6533"
      ]
     },
     "execution_count": 5,
     "metadata": {},
     "output_type": "execute_result"
    }
   ],
   "source": [
    "options = csv_to_sqlite.CsvOptions(typing_style=\"full\", encoding=\"windows-1250\") \n",
    "input_files = [\"tips2.csv\", \"ufcfinal_df2.csv\",\"NFL_Opening_Odds2.csv\",\"top5bookies.csv\"] # pass in a list of CSV files\n",
    "csv_to_sqlite.write_csv(input_files, \"sportsbetting.sqlite\", options)"
   ]
  },
  {
   "cell_type": "code",
   "execution_count": null,
   "metadata": {},
   "outputs": [],
   "source": []
  }
 ],
 "metadata": {
  "kernelspec": {
   "display_name": "Python 3",
   "language": "python",
   "name": "python3"
  },
  "language_info": {
   "codemirror_mode": {
    "name": "ipython",
    "version": 3
   },
   "file_extension": ".py",
   "mimetype": "text/x-python",
   "name": "python",
   "nbconvert_exporter": "python",
   "pygments_lexer": "ipython3",
   "version": "3.8.3"
  }
 },
 "nbformat": 4,
 "nbformat_minor": 4
}
